{
 "cells": [
  {
   "cell_type": "markdown",
   "metadata": {},
   "source": [
    "# WakeTeam Stream Processing"
   ]
  },
  {
   "cell_type": "markdown",
   "metadata": {},
   "source": [
    "## Prerequisits"
   ]
  },
  {
   "cell_type": "code",
   "execution_count": 1,
   "metadata": {},
   "outputs": [
    {
     "name": "stdout",
     "output_type": "stream",
     "text": [
      "Requirement already satisfied: tweepy in /opt/conda/lib/python3.7/site-packages (3.10.0)\n",
      "Requirement already satisfied: requests[socks]>=2.11.1 in /opt/conda/lib/python3.7/site-packages (from tweepy) (2.24.0)\n",
      "Requirement already satisfied: six>=1.10.0 in /opt/conda/lib/python3.7/site-packages (from tweepy) (1.15.0)\n",
      "Requirement already satisfied: requests-oauthlib>=0.7.0 in /opt/conda/lib/python3.7/site-packages (from tweepy) (1.3.0)\n",
      "Requirement already satisfied: chardet<4,>=3.0.2 in /opt/conda/lib/python3.7/site-packages (from requests[socks]>=2.11.1->tweepy) (3.0.4)\n",
      "Requirement already satisfied: urllib3!=1.25.0,!=1.25.1,<1.26,>=1.21.1 in /opt/conda/lib/python3.7/site-packages (from requests[socks]>=2.11.1->tweepy) (1.25.9)\n",
      "Requirement already satisfied: idna<3,>=2.5 in /opt/conda/lib/python3.7/site-packages (from requests[socks]>=2.11.1->tweepy) (2.9)\n",
      "Requirement already satisfied: certifi>=2017.4.17 in /opt/conda/lib/python3.7/site-packages (from requests[socks]>=2.11.1->tweepy) (2020.4.5.2)\n",
      "Requirement already satisfied: PySocks!=1.5.7,>=1.5.6; extra == \"socks\" in /opt/conda/lib/python3.7/site-packages (from requests[socks]>=2.11.1->tweepy) (1.7.1)\n",
      "Requirement already satisfied: oauthlib>=3.0.0 in /opt/conda/lib/python3.7/site-packages (from requests-oauthlib>=0.7.0->tweepy) (3.0.1)\n",
      "Note: you may need to restart the kernel to use updated packages.\n"
     ]
    }
   ],
   "source": [
    "pip install tweepy"
   ]
  },
  {
   "cell_type": "code",
   "execution_count": 2,
   "metadata": {},
   "outputs": [],
   "source": [
    "import sys\n",
    "import os\n",
    "import requests\n",
    "import tweepy\n",
    "import json\n",
    "import pandas as pd\n",
    "import numpy as np\n",
    "from pyspark import sql\n",
    "from pyspark.sql import SparkSession\n",
    "from pyspark.sql.functions import *\n",
    "from pyspark.sql.types import *"
   ]
  },
  {
   "cell_type": "markdown",
   "metadata": {},
   "source": [
    "## Create tables with city hobbies values and city images urls"
   ]
  },
  {
   "cell_type": "code",
   "execution_count": 3,
   "metadata": {},
   "outputs": [
    {
     "data": {
      "text/html": [
       "<div>\n",
       "<style scoped>\n",
       "    .dataframe tbody tr th:only-of-type {\n",
       "        vertical-align: middle;\n",
       "    }\n",
       "\n",
       "    .dataframe tbody tr th {\n",
       "        vertical-align: top;\n",
       "    }\n",
       "\n",
       "    .dataframe thead th {\n",
       "        text-align: right;\n",
       "    }\n",
       "</style>\n",
       "<table border=\"1\" class=\"dataframe\">\n",
       "  <thead>\n",
       "    <tr style=\"text-align: right;\">\n",
       "      <th></th>\n",
       "      <th>Beach</th>\n",
       "      <th>City</th>\n",
       "      <th>Nature</th>\n",
       "      <th>Party</th>\n",
       "    </tr>\n",
       "  </thead>\n",
       "  <tbody>\n",
       "    <tr>\n",
       "      <th>Barcelona</th>\n",
       "      <td>8</td>\n",
       "      <td>9</td>\n",
       "      <td>4</td>\n",
       "      <td>8</td>\n",
       "    </tr>\n",
       "    <tr>\n",
       "      <th>Bilbao</th>\n",
       "      <td>2</td>\n",
       "      <td>5</td>\n",
       "      <td>7</td>\n",
       "      <td>4</td>\n",
       "    </tr>\n",
       "    <tr>\n",
       "      <th>Ibiza</th>\n",
       "      <td>9</td>\n",
       "      <td>3</td>\n",
       "      <td>9</td>\n",
       "      <td>9</td>\n",
       "    </tr>\n",
       "    <tr>\n",
       "      <th>Madrid</th>\n",
       "      <td>0</td>\n",
       "      <td>9</td>\n",
       "      <td>3</td>\n",
       "      <td>9</td>\n",
       "    </tr>\n",
       "    <tr>\n",
       "      <th>Oviedo</th>\n",
       "      <td>1</td>\n",
       "      <td>2</td>\n",
       "      <td>8</td>\n",
       "      <td>3</td>\n",
       "    </tr>\n",
       "    <tr>\n",
       "      <th>Sevilla</th>\n",
       "      <td>0</td>\n",
       "      <td>7</td>\n",
       "      <td>3</td>\n",
       "      <td>6</td>\n",
       "    </tr>\n",
       "    <tr>\n",
       "      <th>Valencia</th>\n",
       "      <td>8</td>\n",
       "      <td>7</td>\n",
       "      <td>6</td>\n",
       "      <td>7</td>\n",
       "    </tr>\n",
       "  </tbody>\n",
       "</table>\n",
       "</div>"
      ],
      "text/plain": [
       "           Beach  City  Nature  Party\n",
       "Barcelona      8     9       4      8\n",
       "Bilbao         2     5       7      4\n",
       "Ibiza          9     3       9      9\n",
       "Madrid         0     9       3      9\n",
       "Oviedo         1     2       8      3\n",
       "Sevilla        0     7       3      6\n",
       "Valencia       8     7       6      7"
      ]
     },
     "execution_count": 3,
     "metadata": {},
     "output_type": "execute_result"
    }
   ],
   "source": [
    "city_list = ['Barcelona', 'Bilbao', 'Ibiza', 'Madrid', 'Oviedo', 'Sevilla', 'Valencia']\n",
    "beach = [8, 2, 9, 0, 1, 0, 8]\n",
    "city = [9, 5, 3, 9, 2, 7, 7]\n",
    "nature = [4, 7, 9, 3, 8, 3, 6]\n",
    "party = [8, 4, 9, 9, 3, 6, 7]\n",
    "d = {'Beach': beach, 'City': city, 'Nature': nature, 'Party': party}\n",
    "\n",
    "cities = pd.DataFrame(data=d, index=city_list)\n",
    "\n",
    "cities"
   ]
  },
  {
   "cell_type": "code",
   "execution_count": 4,
   "metadata": {},
   "outputs": [
    {
     "data": {
      "text/html": [
       "<div>\n",
       "<style scoped>\n",
       "    .dataframe tbody tr th:only-of-type {\n",
       "        vertical-align: middle;\n",
       "    }\n",
       "\n",
       "    .dataframe tbody tr th {\n",
       "        vertical-align: top;\n",
       "    }\n",
       "\n",
       "    .dataframe thead th {\n",
       "        text-align: right;\n",
       "    }\n",
       "</style>\n",
       "<table border=\"1\" class=\"dataframe\">\n",
       "  <thead>\n",
       "    <tr style=\"text-align: right;\">\n",
       "      <th></th>\n",
       "      <th>image_url</th>\n",
       "    </tr>\n",
       "  </thead>\n",
       "  <tbody>\n",
       "    <tr>\n",
       "      <th>Barcelona</th>\n",
       "      <td>https://cdn-image.departures.com/sites/default...</td>\n",
       "    </tr>\n",
       "    <tr>\n",
       "      <th>Bilbao</th>\n",
       "      <td>https://www.telegraph.co.uk/content/dam/Travel...</td>\n",
       "    </tr>\n",
       "    <tr>\n",
       "      <th>Ibiza</th>\n",
       "      <td>https://www.athenaadvisers.com/wp-content/uplo...</td>\n",
       "    </tr>\n",
       "    <tr>\n",
       "      <th>Madrid</th>\n",
       "      <td>https://www.fodors.com/wp-content/uploads/2018...</td>\n",
       "    </tr>\n",
       "    <tr>\n",
       "      <th>Oviedo</th>\n",
       "      <td>https://static3.elcomercio.es/www/multimedia/2...</td>\n",
       "    </tr>\n",
       "    <tr>\n",
       "      <th>Sevilla</th>\n",
       "      <td>https://aws.traveler.es/prod/designs/v1/assets...</td>\n",
       "    </tr>\n",
       "    <tr>\n",
       "      <th>Valencia</th>\n",
       "      <td>https://image.jimcdn.com/app/cms/image/transf/...</td>\n",
       "    </tr>\n",
       "  </tbody>\n",
       "</table>\n",
       "</div>"
      ],
      "text/plain": [
       "                                                   image_url\n",
       "Barcelona  https://cdn-image.departures.com/sites/default...\n",
       "Bilbao     https://www.telegraph.co.uk/content/dam/Travel...\n",
       "Ibiza      https://www.athenaadvisers.com/wp-content/uplo...\n",
       "Madrid     https://www.fodors.com/wp-content/uploads/2018...\n",
       "Oviedo     https://static3.elcomercio.es/www/multimedia/2...\n",
       "Sevilla    https://aws.traveler.es/prod/designs/v1/assets...\n",
       "Valencia   https://image.jimcdn.com/app/cms/image/transf/..."
      ]
     },
     "execution_count": 4,
     "metadata": {},
     "output_type": "execute_result"
    }
   ],
   "source": [
    "urls = [\n",
    "    \"https://cdn-image.departures.com/sites/default/files/1559596629/sagrada-familia-barcelona-BARCELONA0619.jpg\",\n",
    "    \"https://www.telegraph.co.uk/content/dam/Travel/Destinations/Europe/Spain/Bilbao/art-scene-bilbao-attractions-xlarge.jpg\",\n",
    "    \"https://www.athenaadvisers.com/wp-content/uploads/2018/07/Ibiza-3-787x564.jpeg\",\n",
    "    \"https://www.fodors.com/wp-content/uploads/2018/12/UltimateMadrid__HERO_shutterstock_624145955.jpg\",\n",
    "    \"https://static3.elcomercio.es/www/multimedia/202007/17/media/cortadas/pisos19072020-ktDD-U110825374864LV-624x385@RC.jpg\",\n",
    "    \"https://aws.traveler.es/prod/designs/v1/assets/940x633/109723.jpg\",\n",
    "    \"https://image.jimcdn.com/app/cms/image/transf/none/path/s528009aeedef3395/image/if4bf85251cca6c2d/version/1541518713/image.jpg\"\n",
    "]\n",
    "data = {'image_url': urls}\n",
    "\n",
    "cities_images = pd.DataFrame(data=data, index=city_list)\n",
    "\n",
    "cities_images"
   ]
  },
  {
   "cell_type": "markdown",
   "metadata": {},
   "source": [
    "## Create streaming dataframe for Flats"
   ]
  },
  {
   "cell_type": "code",
   "execution_count": 5,
   "metadata": {},
   "outputs": [],
   "source": [
    "# Initialize SparkSession\n",
    "spark = SparkSession \\\n",
    "    .builder \\\n",
    "    .appName(\"QualityLife\") \\\n",
    "    .getOrCreate()"
   ]
  },
  {
   "cell_type": "code",
   "execution_count": 6,
   "metadata": {},
   "outputs": [],
   "source": [
    "# Create flats_df stream\n",
    "flats_df_stream = spark \\\n",
    "  .readStream \\\n",
    "  .format(\"kafka\") \\\n",
    "  .option(\"kafka.bootstrap.servers\", \"broker:29092\") \\\n",
    "  .option(\"subscribe\", \"flats\") \\\n",
    "  .load()\n",
    "\n",
    "#flats_df_stream.printSchema()"
   ]
  },
  {
   "cell_type": "code",
   "execution_count": 7,
   "metadata": {},
   "outputs": [],
   "source": [
    "# Create schema for flats_df\n",
    "schema_flats = StructType(\n",
    "    [\n",
    "        StructField('house_city', StringType(), True),\n",
    "        StructField('house_rooms', StringType(), True),\n",
    "        StructField('house_code', StringType(), True),\n",
    "        StructField('house_rent', StringType(), True)\n",
    "        \n",
    "    ]\n",
    ")\n",
    "\n",
    "flats_df = flats_df_stream.selectExpr(\"CAST(key AS STRING)\", \"CAST(value AS STRING)\", \"timestamp\") \\\n",
    "    .withColumn(\"value\", from_json(\"value\", schema_flats)) \\\n",
    "    .select(col('key'), col(\"timestamp\"), col('value.*'))\n",
    "\n",
    "#flats_df.printSchema()"
   ]
  },
  {
   "cell_type": "code",
   "execution_count": 8,
   "metadata": {},
   "outputs": [
    {
     "data": {
      "text/plain": [
       "<pyspark.sql.streaming.StreamingQuery at 0x7f00db26cad0>"
      ]
     },
     "execution_count": 8,
     "metadata": {},
     "output_type": "execute_result"
    }
   ],
   "source": [
    "# Create table to store query output in memory\n",
    "flats_df.writeStream \\\n",
    " .outputMode(\"append\") \\\n",
    " .format(\"memory\") \\\n",
    " .option(\"truncate\", \"false\") \\\n",
    " .queryName(\"flats_all\") \\\n",
    " .start()"
   ]
  },
  {
   "cell_type": "code",
   "execution_count": 9,
   "metadata": {
    "scrolled": true
   },
   "outputs": [
    {
     "name": "stdout",
     "output_type": "stream",
     "text": [
      "+---+---------+----------+-----------+----------+----------+\n",
      "|key|timestamp|house_city|house_rooms|house_code|house_rent|\n",
      "+---+---------+----------+-----------+----------+----------+\n",
      "+---+---------+----------+-----------+----------+----------+\n",
      "\n"
     ]
    }
   ],
   "source": [
    "spark.sql(\"select * from flats_all order by timestamp desc\").show(truncate = False)"
   ]
  },
  {
   "cell_type": "markdown",
   "metadata": {},
   "source": [
    "## Create streaming for families"
   ]
  },
  {
   "cell_type": "code",
   "execution_count": 10,
   "metadata": {},
   "outputs": [],
   "source": [
    "# Create families_df_stream\n",
    "families_df_stream = spark \\\n",
    "  .readStream \\\n",
    "  .format(\"kafka\") \\\n",
    "  .option(\"kafka.bootstrap.servers\", \"broker:29092\") \\\n",
    "  .option(\"subscribe\", \"families\") \\\n",
    "  .load()\n",
    "\n",
    "#families_df_stream.printSchema()"
   ]
  },
  {
   "cell_type": "code",
   "execution_count": 11,
   "metadata": {},
   "outputs": [],
   "source": [
    "# Create schema for families_df\n",
    "schema_families = StructType(\n",
    "    [\n",
    "        StructField('people_city', StringType(), True),\n",
    "        StructField('people_members', StringType(), True),\n",
    "        StructField('people_party', StringType(), True),\n",
    "        StructField('people_beach', StringType(), True),\n",
    "        StructField('tweet_id', StringType(), True),\n",
    "        StructField('people_salary', StringType(), True),\n",
    "        StructField('people_age', StringType(), True),\n",
    "        StructField('people_name', StringType(), True),\n",
    "        StructField('people_nature', StringType(), True)\n",
    "    ]\n",
    ")\n",
    "\n",
    "families_df = families_df_stream.selectExpr(\"CAST(key AS STRING)\", \"CAST(value AS STRING)\", \"timestamp\") \\\n",
    "    .withColumn(\"value\", from_json(\"value\", schema_families)) \\\n",
    "    .select(col('key'), col(\"timestamp\"), col('value.*'))\n",
    "\n",
    "#families_df.printSchema()"
   ]
  },
  {
   "cell_type": "code",
   "execution_count": 12,
   "metadata": {
    "scrolled": true
   },
   "outputs": [
    {
     "data": {
      "text/plain": [
       "<pyspark.sql.streaming.StreamingQuery at 0x7f00fc24d250>"
      ]
     },
     "execution_count": 12,
     "metadata": {},
     "output_type": "execute_result"
    }
   ],
   "source": [
    "# Create table to store query output in memory\n",
    "families_df.writeStream \\\n",
    " .outputMode(\"append\") \\\n",
    " .format(\"memory\") \\\n",
    " .option(\"truncate\", \"false\") \\\n",
    " .queryName(\"families_all\") \\\n",
    " .start()"
   ]
  },
  {
   "cell_type": "code",
   "execution_count": 13,
   "metadata": {},
   "outputs": [
    {
     "name": "stdout",
     "output_type": "stream",
     "text": [
      "+---+---------+-----------+--------------+------------+------------+--------+-------------+----------+-----------+-------------+\n",
      "|key|timestamp|people_city|people_members|people_party|people_beach|tweet_id|people_salary|people_age|people_name|people_nature|\n",
      "+---+---------+-----------+--------------+------------+------------+--------+-------------+----------+-----------+-------------+\n",
      "+---+---------+-----------+--------------+------------+------------+--------+-------------+----------+-----------+-------------+\n",
      "\n"
     ]
    }
   ],
   "source": [
    "spark.sql(\"select * from families_all order by timestamp desc\").show(truncate = False)"
   ]
  },
  {
   "cell_type": "code",
   "execution_count": 14,
   "metadata": {},
   "outputs": [],
   "source": [
    "# TWITTER AUTHENTICATION\n",
    "consumer_key = \"\"\n",
    "consumer_secret = \"\"\n",
    "access_token = \"\"\n",
    "access_token_secret = \"\"\n",
    "\n",
    "auth = tweepy.OAuthHandler(consumer_key, consumer_secret)\n",
    "auth.set_access_token(access_token, access_token_secret)\n",
    "\n",
    "twitter_api = tweepy.API(auth, wait_on_rate_limit=True, wait_on_rate_limit_notify=True)"
   ]
  },
  {
   "cell_type": "code",
   "execution_count": 15,
   "metadata": {},
   "outputs": [],
   "source": [
    "# DEFINE FUNCTIONS FOR DATA STREAM\n",
    "\n",
    "# best_city\n",
    "def best_city(df, hobbies):\n",
    "    df = df.sub(hobbies, axis=1).abs()\n",
    "    df['total'] = df.sum(axis=1)\n",
    "    df = df.sort_values('total')\n",
    "    city_name = df.index.values[0]\n",
    "    return city_name\n",
    " \n",
    "\n",
    "# flats_city\n",
    "def flats_city(city_name, members, max_rent):\n",
    "    query = (\n",
    "        \"SELECT * FROM flats_all \"\n",
    "        \"WHERE house_city='{}' AND house_rooms>={} AND house_rent<={} \"\n",
    "        \"ORDER BY house_rent DESC LIMIT 1\".format(city_name, members, max_rent)\n",
    "    )\n",
    "    city_flats = spark.sql(query).toPandas()\n",
    "    if city_flats.empty:\n",
    "        flat_code = 0\n",
    "    else:\n",
    "        flat_code = int(city_flats.house_code)\n",
    "    return flat_code\n",
    "\n",
    "\n",
    "# reply_tweet_image\n",
    "def reply_tweet_image(tweet_id, reply_text, city_name):\n",
    "    image_url = cities_images[cities_images.index.values == city_name].image_url[0]\n",
    "    filename = 'temp.jpg'\n",
    "    request = requests.get(image_url, stream=True)\n",
    "    if request.status_code == 200:\n",
    "        with open(filename, 'wb') as image:\n",
    "            for chunk in request:\n",
    "                image.write(chunk)\n",
    "\n",
    "        twitter_api.update_with_media(filename=filename, status=reply_text, in_reply_to_status_id=tweet_id)\n",
    "        os.remove(filename)\n",
    "    else:\n",
    "        twitter_api.update_status(status=reply_text, in_reply_to_status_id=tweet_id)\n",
    "     "
   ]
  },
  {
   "cell_type": "code",
   "execution_count": 16,
   "metadata": {},
   "outputs": [],
   "source": [
    "# Define process_row function for each stream row\n",
    "# process_row\n",
    "def process_row(row):\n",
    "    # Retrieve values\n",
    "    people_beach = int(row['people_beach'])\n",
    "    people_city = int(row['people_city'])\n",
    "    people_nature = int(row['people_nature'])\n",
    "    people_party = int(row['people_party'])\n",
    "    people_members = int(row['people_members'])\n",
    "    people_salary = int(row['people_salary'])\n",
    "    people_name = row['people_name']\n",
    "    tweet_id = int(row['tweet_id'])\n",
    "    \n",
    "    # Retrieve best city\n",
    "    hobbies = [people_beach, people_city, people_nature, people_party]\n",
    "    city_name = best_city(cities, hobbies)\n",
    "    \n",
    "    # Retrieve best flat\n",
    "    max_rent = people_salary * 0.3 / 12 \n",
    "    \n",
    "    flat_code = flats_city(city_name, people_members, max_rent)\n",
    "    \n",
    "    #flat_code = 123512\n",
    "    \n",
    "    # Reply tweet\n",
    "    if flat_code == 0:\n",
    "        reply_text = (\n",
    "            \"@dlpexercisepro1 Hi {}, your future house is waiting for you in {}. \"\n",
    "            \"Please, contact #QualityLife and we'll gladly help you find it! \"\n",
    "            \"#WakeTeam #mdaedem\".format(people_name, city_name)\n",
    "        )\n",
    "    else:\n",
    "        reply_text = (\n",
    "            \"@dlpexercisepro1 Hi {}, your future house is waiting for you in {} with code {}. \"\n",
    "            \"Please, contact #QualityLife for further details! \"\n",
    "            \"#WakeTeam #mdaedem\".format(people_name,city_name,flat_code)\n",
    "        )\n",
    "    \n",
    "    reply_tweet_image(tweet_id, reply_text, city_name)\n"
   ]
  },
  {
   "cell_type": "code",
   "execution_count": 17,
   "metadata": {},
   "outputs": [],
   "source": [
    "# Start stream\n",
    "families_df_query = families_df.writeStream \\\n",
    " .foreach(process_row) \\\n",
    " .start()"
   ]
  }
 ],
 "metadata": {
  "celltoolbar": "Raw Cell Format",
  "kernelspec": {
   "display_name": "Python3",
   "language": "python",
   "name": "python3"
  },
  "language_info": {
   "codemirror_mode": {
    "name": "ipython",
    "version": 3
   },
   "file_extension": ".py",
   "mimetype": "text/x-python",
   "name": "python",
   "nbconvert_exporter": "python",
   "pygments_lexer": "ipython3",
   "version": "3.8.5"
  }
 },
 "nbformat": 4,
 "nbformat_minor": 4
}
